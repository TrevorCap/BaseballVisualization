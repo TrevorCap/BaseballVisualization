{
 "cells": [
  {
   "cell_type": "code",
   "execution_count": 5,
   "metadata": {},
   "outputs": [],
   "source": [
    "import sqlite3\n",
    "import sqlalchemy\n",
    "import pandas\n",
    "from sqlalchemy.ext.automap import automap_base\n",
    "from sqlalchemy.orm import Session\n",
    "from sqlalchemy import create_engine, func, inspect, desc\n",
    "sqlite_file = 'data.sqlite'"
   ]
  },
  {
   "cell_type": "code",
   "execution_count": 13,
   "metadata": {},
   "outputs": [
    {
     "data": {
      "text/html": [
       "<div>\n",
       "<style scoped>\n",
       "    .dataframe tbody tr th:only-of-type {\n",
       "        vertical-align: middle;\n",
       "    }\n",
       "\n",
       "    .dataframe tbody tr th {\n",
       "        vertical-align: top;\n",
       "    }\n",
       "\n",
       "    .dataframe thead th {\n",
       "        text-align: right;\n",
       "    }\n",
       "</style>\n",
       "<table border=\"1\" class=\"dataframe\">\n",
       "  <thead>\n",
       "    <tr style=\"text-align: right;\">\n",
       "      <th></th>\n",
       "      <th></th>\n",
       "      <th>birthYear</th>\n",
       "      <th>nameFirst</th>\n",
       "      <th>nameLast</th>\n",
       "      <th>BLat</th>\n",
       "      <th>BLng</th>\n",
       "      <th>birthCountry</th>\n",
       "      <th>deathYear</th>\n",
       "      <th>birthCity</th>\n",
       "      <th>Flag</th>\n",
       "    </tr>\n",
       "  </thead>\n",
       "  <tbody>\n",
       "    <tr>\n",
       "      <th>0</th>\n",
       "      <td>0</td>\n",
       "      <td>1981</td>\n",
       "      <td>David</td>\n",
       "      <td>Aardsma</td>\n",
       "      <td>39.7392358</td>\n",
       "      <td>-104.990251</td>\n",
       "      <td>United States</td>\n",
       "      <td></td>\n",
       "      <td>Denver</td>\n",
       "      <td>https://upload.wikimedia.org/wikipedia/en/a/a4...</td>\n",
       "    </tr>\n",
       "    <tr>\n",
       "      <th>1</th>\n",
       "      <td>1</td>\n",
       "      <td>1934</td>\n",
       "      <td>Hank</td>\n",
       "      <td>Aaron</td>\n",
       "      <td>30.6953657</td>\n",
       "      <td>-88.0398912</td>\n",
       "      <td>United States</td>\n",
       "      <td></td>\n",
       "      <td>Mobile</td>\n",
       "      <td>https://upload.wikimedia.org/wikipedia/en/a/a4...</td>\n",
       "    </tr>\n",
       "    <tr>\n",
       "      <th>2</th>\n",
       "      <td>2</td>\n",
       "      <td>1939</td>\n",
       "      <td>Tommie</td>\n",
       "      <td>Aaron</td>\n",
       "      <td>30.6953657</td>\n",
       "      <td>-88.0398912</td>\n",
       "      <td>United States</td>\n",
       "      <td>1984</td>\n",
       "      <td>Mobile</td>\n",
       "      <td>https://upload.wikimedia.org/wikipedia/en/a/a4...</td>\n",
       "    </tr>\n",
       "    <tr>\n",
       "      <th>3</th>\n",
       "      <td>3</td>\n",
       "      <td>1954</td>\n",
       "      <td>Don</td>\n",
       "      <td>Aase</td>\n",
       "      <td>33.7879139</td>\n",
       "      <td>-117.8531007</td>\n",
       "      <td>United States</td>\n",
       "      <td></td>\n",
       "      <td>Orange</td>\n",
       "      <td>https://upload.wikimedia.org/wikipedia/en/a/a4...</td>\n",
       "    </tr>\n",
       "    <tr>\n",
       "      <th>4</th>\n",
       "      <td>4</td>\n",
       "      <td>1972</td>\n",
       "      <td>Andy</td>\n",
       "      <td>Abad</td>\n",
       "      <td>26.7056206</td>\n",
       "      <td>-80.0364297</td>\n",
       "      <td>United States</td>\n",
       "      <td></td>\n",
       "      <td>Palm Beach</td>\n",
       "      <td>https://upload.wikimedia.org/wikipedia/en/a/a4...</td>\n",
       "    </tr>\n",
       "  </tbody>\n",
       "</table>\n",
       "</div>"
      ],
      "text/plain": [
       "     birthYear nameFirst nameLast        BLat          BLng   birthCountry  \\\n",
       "0  0      1981     David  Aardsma  39.7392358   -104.990251  United States   \n",
       "1  1      1934      Hank    Aaron  30.6953657   -88.0398912  United States   \n",
       "2  2      1939    Tommie    Aaron  30.6953657   -88.0398912  United States   \n",
       "3  3      1954       Don     Aase  33.7879139  -117.8531007  United States   \n",
       "4  4      1972      Andy     Abad  26.7056206   -80.0364297  United States   \n",
       "\n",
       "  deathYear   birthCity                                               Flag  \n",
       "0                Denver  https://upload.wikimedia.org/wikipedia/en/a/a4...  \n",
       "1                Mobile  https://upload.wikimedia.org/wikipedia/en/a/a4...  \n",
       "2      1984      Mobile  https://upload.wikimedia.org/wikipedia/en/a/a4...  \n",
       "3                Orange  https://upload.wikimedia.org/wikipedia/en/a/a4...  \n",
       "4            Palm Beach  https://upload.wikimedia.org/wikipedia/en/a/a4...  "
      ]
     },
     "execution_count": 13,
     "metadata": {},
     "output_type": "execute_result"
    }
   ],
   "source": [
    "import pandas as pd\n",
    "import sqlite3\n",
    "conn = sqlite3.connect(\"data.sqlite\")\n",
    "df = pd.read_sql_query(\"select * from deploy1 limit 5;\", conn)\n",
    "df"
   ]
  },
  {
   "cell_type": "code",
   "execution_count": 11,
   "metadata": {},
   "outputs": [],
   "source": [
    "mycur = conn.cursor() \n",
    "mycur.execute(\"SELECT name FROM sqlite_master WHERE type='table' ORDER BY name;\")\n",
    "available_table=(mycur.fetchall())"
   ]
  },
  {
   "cell_type": "code",
   "execution_count": 12,
   "metadata": {},
   "outputs": [
    {
     "data": {
      "text/plain": [
       "[('Deploy1',)]"
      ]
     },
     "execution_count": 12,
     "metadata": {},
     "output_type": "execute_result"
    }
   ],
   "source": [
    "available_table"
   ]
  },
  {
   "cell_type": "code",
   "execution_count": null,
   "metadata": {},
   "outputs": [],
   "source": []
  }
 ],
 "metadata": {
  "kernelspec": {
   "display_name": "Python 3",
   "language": "python",
   "name": "python3"
  },
  "language_info": {
   "codemirror_mode": {
    "name": "ipython",
    "version": 3
   },
   "file_extension": ".py",
   "mimetype": "text/x-python",
   "name": "python",
   "nbconvert_exporter": "python",
   "pygments_lexer": "ipython3",
   "version": "3.7.1"
  }
 },
 "nbformat": 4,
 "nbformat_minor": 2
}
