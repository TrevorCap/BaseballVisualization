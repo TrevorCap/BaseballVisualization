{
 "cells": [
  {
   "cell_type": "code",
   "execution_count": 1,
   "metadata": {},
   "outputs": [],
   "source": [
    "import pandas as pd"
   ]
  },
  {
   "cell_type": "code",
   "execution_count": 2,
   "metadata": {},
   "outputs": [],
   "source": [
    "data = pd.read_csv(\"fulldata.csv\")\n",
    "cities = pd.read_csv(\"GeoLiteCities.csv\")\n",
    "locations = pd.read_csv(\"GeoLitLocations.csv\")"
   ]
  },
  {
   "cell_type": "code",
   "execution_count": null,
   "metadata": {},
   "outputs": [],
   "source": []
  },
  {
   "cell_type": "code",
   "execution_count": 3,
   "metadata": {},
   "outputs": [],
   "source": [
    "data = data.drop(columns = ['birthMonth', 'birthDay',\n",
    "       'birthState', 'deathMonth', 'deathDay',\n",
    "       'deathState',\n",
    "       'nameGiven', 'weight', 'height', 'bats', 'throws', 'debut', 'finalGame',\n",
    "       'retroID', 'bbrefID', 'Position', 'HoF'])"
   ]
  },
  {
   "cell_type": "code",
   "execution_count": 4,
   "metadata": {},
   "outputs": [],
   "source": [
    "namer={\"USA\": \"United States\", \"D.R.\": \"Domincan Republic\", 'CAN': \"Canada\", \"P.R.\": \"Puerto Rico\", \"V.I.\": \"U.S. Virgin Islands\"}"
   ]
  },
  {
   "cell_type": "code",
   "execution_count": 5,
   "metadata": {},
   "outputs": [],
   "source": [
    "data = data.replace({\"birthCountry\": namer})"
   ]
  },
  {
   "cell_type": "code",
   "execution_count": null,
   "metadata": {},
   "outputs": [],
   "source": []
  },
  {
   "cell_type": "code",
   "execution_count": null,
   "metadata": {},
   "outputs": [],
   "source": []
  },
  {
   "cell_type": "code",
   "execution_count": 6,
   "metadata": {},
   "outputs": [],
   "source": [
    "data = data.dropna(subset=['birthCountry'])\n",
    "data = data.dropna(subset=['birthCity'])\n"
   ]
  },
  {
   "cell_type": "code",
   "execution_count": 7,
   "metadata": {},
   "outputs": [],
   "source": [
    "cities = cities.drop(columns=['network', 'represented_country_geoname_id', 'is_anonymous_proxy',\n",
    "       'is_satellite_provider', 'postal_code', 'accuracy_radius'])"
   ]
  },
  {
   "cell_type": "code",
   "execution_count": null,
   "metadata": {},
   "outputs": [],
   "source": []
  },
  {
   "cell_type": "code",
   "execution_count": null,
   "metadata": {},
   "outputs": [],
   "source": []
  },
  {
   "cell_type": "code",
   "execution_count": null,
   "metadata": {},
   "outputs": [],
   "source": []
  },
  {
   "cell_type": "code",
   "execution_count": 8,
   "metadata": {},
   "outputs": [],
   "source": [
    "locations = locations.drop(columns=['locale_code', 'continent_name', 'subdivision_1_iso_code',\n",
    "       'subdivision_1_name', 'subdivision_2_iso_code', 'subdivision_2_name',\n",
    "       'time_zone', 'is_in_european_union', 'metro_code'])"
   ]
  },
  {
   "cell_type": "code",
   "execution_count": null,
   "metadata": {},
   "outputs": [],
   "source": []
  },
  {
   "cell_type": "code",
   "execution_count": 9,
   "metadata": {},
   "outputs": [],
   "source": [
    "locator = locations.merge(cities, on = \"geoname_id\", how = \"right\")"
   ]
  },
  {
   "cell_type": "code",
   "execution_count": 10,
   "metadata": {},
   "outputs": [],
   "source": [
    "locator = locator.drop_duplicates(subset=['geoname_id'], keep='first')"
   ]
  },
  {
   "cell_type": "code",
   "execution_count": null,
   "metadata": {},
   "outputs": [],
   "source": []
  },
  {
   "cell_type": "code",
   "execution_count": null,
   "metadata": {},
   "outputs": [],
   "source": []
  },
  {
   "cell_type": "code",
   "execution_count": 11,
   "metadata": {},
   "outputs": [],
   "source": [
    "data['Birthplace'] = data['birthCountry'] + \" \" + data['birthCity']"
   ]
  },
  {
   "cell_type": "code",
   "execution_count": 12,
   "metadata": {},
   "outputs": [],
   "source": [
    "locator['Birthplace'] = locator['country_name'] + \" \" + locator['city_name']"
   ]
  },
  {
   "cell_type": "code",
   "execution_count": null,
   "metadata": {},
   "outputs": [],
   "source": []
  },
  {
   "cell_type": "code",
   "execution_count": null,
   "metadata": {},
   "outputs": [],
   "source": []
  },
  {
   "cell_type": "code",
   "execution_count": 13,
   "metadata": {},
   "outputs": [],
   "source": [
    "final = data.merge(locator, on='Birthplace', how='left')"
   ]
  },
  {
   "cell_type": "code",
   "execution_count": 31,
   "metadata": {},
   "outputs": [],
   "source": [
    "final.iloc[46767, final.columns.get_loc('latitude')] = 46.0994\n",
    "final.iloc[46767, final.columns.get_loc('longitude')] = 37.02617\n",
    "\n",
    "# Add Gift Ngoepe, Vietnam, Tupa, Russians, PHillipines"
   ]
  },
  {
   "cell_type": "code",
   "execution_count": 32,
   "metadata": {},
   "outputs": [
    {
     "data": {
      "text/html": [
       "<div>\n",
       "<style scoped>\n",
       "    .dataframe tbody tr th:only-of-type {\n",
       "        vertical-align: middle;\n",
       "    }\n",
       "\n",
       "    .dataframe tbody tr th {\n",
       "        vertical-align: top;\n",
       "    }\n",
       "\n",
       "    .dataframe thead th {\n",
       "        text-align: right;\n",
       "    }\n",
       "</style>\n",
       "<table border=\"1\" class=\"dataframe\">\n",
       "  <thead>\n",
       "    <tr style=\"text-align: right;\">\n",
       "      <th></th>\n",
       "      <th>playerID</th>\n",
       "      <th>birthYear</th>\n",
       "      <th>birthCountry</th>\n",
       "      <th>birthCity</th>\n",
       "      <th>deathYear</th>\n",
       "      <th>deathCountry</th>\n",
       "      <th>deathCity</th>\n",
       "      <th>nameFirst</th>\n",
       "      <th>nameLast</th>\n",
       "      <th>Birthplace</th>\n",
       "      <th>geoname_id</th>\n",
       "      <th>continent_code</th>\n",
       "      <th>country_iso_code</th>\n",
       "      <th>country_name</th>\n",
       "      <th>city_name</th>\n",
       "      <th>registered_country_geoname_id</th>\n",
       "      <th>latitude</th>\n",
       "      <th>longitude</th>\n",
       "      <th>16</th>\n",
       "      <th>17</th>\n",
       "    </tr>\n",
       "  </thead>\n",
       "  <tbody>\n",
       "    <tr>\n",
       "      <th>46767</th>\n",
       "      <td>porraed01</td>\n",
       "      <td>1888.0</td>\n",
       "      <td>At Sea</td>\n",
       "      <td>Atlantic Ocean</td>\n",
       "      <td>1954.0</td>\n",
       "      <td>USA</td>\n",
       "      <td>Lackawaxen</td>\n",
       "      <td>Ed</td>\n",
       "      <td>Porray</td>\n",
       "      <td>At Sea Atlantic Ocean</td>\n",
       "      <td>NaN</td>\n",
       "      <td>NaN</td>\n",
       "      <td>NaN</td>\n",
       "      <td>NaN</td>\n",
       "      <td>NaN</td>\n",
       "      <td>NaN</td>\n",
       "      <td>46.0994</td>\n",
       "      <td>37.02617</td>\n",
       "      <td>NaN</td>\n",
       "      <td>NaN</td>\n",
       "    </tr>\n",
       "  </tbody>\n",
       "</table>\n",
       "</div>"
      ],
      "text/plain": [
       "        playerID  birthYear birthCountry       birthCity  deathYear  \\\n",
       "46767  porraed01     1888.0       At Sea  Atlantic Ocean     1954.0   \n",
       "\n",
       "      deathCountry   deathCity nameFirst nameLast             Birthplace  \\\n",
       "46767          USA  Lackawaxen        Ed   Porray  At Sea Atlantic Ocean   \n",
       "\n",
       "       geoname_id continent_code country_iso_code country_name city_name  \\\n",
       "46767         NaN            NaN              NaN          NaN       NaN   \n",
       "\n",
       "       registered_country_geoname_id  latitude  longitude  16  17  \n",
       "46767                            NaN   46.0994   37.02617 NaN NaN  "
      ]
     },
     "execution_count": 32,
     "metadata": {},
     "output_type": "execute_result"
    }
   ],
   "source": [
    "final.loc[final.playerID == \"porraed01\"]"
   ]
  },
  {
   "cell_type": "code",
   "execution_count": 23,
   "metadata": {},
   "outputs": [
    {
     "data": {
      "text/html": [
       "<div>\n",
       "<style scoped>\n",
       "    .dataframe tbody tr th:only-of-type {\n",
       "        vertical-align: middle;\n",
       "    }\n",
       "\n",
       "    .dataframe tbody tr th {\n",
       "        vertical-align: top;\n",
       "    }\n",
       "\n",
       "    .dataframe thead th {\n",
       "        text-align: right;\n",
       "    }\n",
       "</style>\n",
       "<table border=\"1\" class=\"dataframe\">\n",
       "  <thead>\n",
       "    <tr style=\"text-align: right;\">\n",
       "      <th></th>\n",
       "      <th>playerID</th>\n",
       "      <th>birthYear</th>\n",
       "      <th>birthCountry</th>\n",
       "      <th>birthCity</th>\n",
       "      <th>deathYear</th>\n",
       "      <th>deathCountry</th>\n",
       "      <th>deathCity</th>\n",
       "      <th>nameFirst</th>\n",
       "      <th>nameLast</th>\n",
       "      <th>Birthplace</th>\n",
       "      <th>geoname_id</th>\n",
       "      <th>continent_code</th>\n",
       "      <th>country_iso_code</th>\n",
       "      <th>country_name</th>\n",
       "      <th>city_name</th>\n",
       "      <th>registered_country_geoname_id</th>\n",
       "      <th>latitude</th>\n",
       "      <th>longitude</th>\n",
       "      <th>16</th>\n",
       "      <th>17</th>\n",
       "    </tr>\n",
       "  </thead>\n",
       "  <tbody>\n",
       "    <tr>\n",
       "      <th>46766</th>\n",
       "      <td>poredaa01</td>\n",
       "      <td>1986.0</td>\n",
       "      <td>United States</td>\n",
       "      <td>Walnut Creek</td>\n",
       "      <td>NaN</td>\n",
       "      <td>NaN</td>\n",
       "      <td>NaN</td>\n",
       "      <td>Aaron</td>\n",
       "      <td>Poreda</td>\n",
       "      <td>United States Walnut Creek</td>\n",
       "      <td>5406990.0</td>\n",
       "      <td>NaN</td>\n",
       "      <td>US</td>\n",
       "      <td>United States</td>\n",
       "      <td>Walnut Creek</td>\n",
       "      <td>6252001.0</td>\n",
       "      <td>37.8753</td>\n",
       "      <td>-122.0703</td>\n",
       "      <td>NaN</td>\n",
       "      <td>NaN</td>\n",
       "    </tr>\n",
       "  </tbody>\n",
       "</table>\n",
       "</div>"
      ],
      "text/plain": [
       "        playerID  birthYear   birthCountry     birthCity  deathYear  \\\n",
       "46766  poredaa01     1986.0  United States  Walnut Creek        NaN   \n",
       "\n",
       "      deathCountry deathCity nameFirst nameLast                  Birthplace  \\\n",
       "46766          NaN       NaN     Aaron   Poreda  United States Walnut Creek   \n",
       "\n",
       "       geoname_id continent_code country_iso_code   country_name  \\\n",
       "46766   5406990.0            NaN               US  United States   \n",
       "\n",
       "          city_name  registered_country_geoname_id  latitude  longitude  16  \\\n",
       "46766  Walnut Creek                      6252001.0   37.8753  -122.0703 NaN   \n",
       "\n",
       "       17  \n",
       "46766 NaN  "
      ]
     },
     "execution_count": 23,
     "metadata": {},
     "output_type": "execute_result"
    }
   ],
   "source": [
    "final.loc[final.index == 46766]"
   ]
  },
  {
   "cell_type": "code",
   "execution_count": null,
   "metadata": {},
   "outputs": [],
   "source": [
    "final = final.dropna(subset=['latitude'])"
   ]
  },
  {
   "cell_type": "code",
   "execution_count": null,
   "metadata": {},
   "outputs": [],
   "source": [
    "final"
   ]
  },
  {
   "cell_type": "code",
   "execution_count": null,
   "metadata": {},
   "outputs": [],
   "source": [
    "final= final.drop_duplicates(subset=['playerID'], keep='first')\n",
    "final"
   ]
  },
  {
   "cell_type": "code",
   "execution_count": null,
   "metadata": {},
   "outputs": [],
   "source": [
    "final.to_csv(\"final.csv\")"
   ]
  },
  {
   "cell_type": "code",
   "execution_count": null,
   "metadata": {},
   "outputs": [],
   "source": []
  }
 ],
 "metadata": {
  "kernelspec": {
   "display_name": "Python 3",
   "language": "python",
   "name": "python3"
  },
  "language_info": {
   "codemirror_mode": {
    "name": "ipython",
    "version": 3
   },
   "file_extension": ".py",
   "mimetype": "text/x-python",
   "name": "python",
   "nbconvert_exporter": "python",
   "pygments_lexer": "ipython3",
   "version": "3.7.1"
  }
 },
 "nbformat": 4,
 "nbformat_minor": 2
}
