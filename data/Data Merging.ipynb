{
 "cells": [
  {
   "cell_type": "code",
   "execution_count": 1,
   "metadata": {},
   "outputs": [],
   "source": [
    "import pandas as pd"
   ]
  },
  {
   "cell_type": "code",
   "execution_count": 2,
   "metadata": {},
   "outputs": [
    {
     "name": "stderr",
     "output_type": "stream",
     "text": [
      "C:\\Users\\alana\\Anaconda3\\lib\\site-packages\\IPython\\core\\interactiveshell.py:3020: DtypeWarning: Columns (6) have mixed types. Specify dtype option on import or set low_memory=False.\n",
      "  interactivity=interactivity, compiler=compiler, result=result)\n"
     ]
    }
   ],
   "source": [
    "data = pd.read_csv(\"fulldata.csv\")\n",
    "cities = pd.read_csv(\"GeoLiteCities.csv\")\n",
    "locations = pd.read_csv(\"GeoLitLocations.csv\")\n",
    "cities2 = pd.read_csv(\"worldcities.csv\")\n",
    "flags = pd.read_csv(\"flags_df.csv\")"
   ]
  },
  {
   "cell_type": "code",
   "execution_count": null,
   "metadata": {},
   "outputs": [],
   "source": []
  },
  {
   "cell_type": "code",
   "execution_count": 3,
   "metadata": {},
   "outputs": [],
   "source": [
    "cities2['Birthplace'] = cities2['country'] + \" \" + cities2['city']\n",
    "cities2['Deathplace'] = cities2['country'] + \" \" + cities2['city']\n",
    "cities2 = cities2.drop(columns = ['city_ascii', 'iso2', 'iso3',\n",
    "       'admin_name', 'capital', 'population', 'id'])"
   ]
  },
  {
   "cell_type": "code",
   "execution_count": 4,
   "metadata": {},
   "outputs": [],
   "source": [
    "data = data.drop(columns = ['birthMonth', 'birthDay',\n",
    "       'birthState', 'deathMonth', 'deathDay',\n",
    "       'deathState',\n",
    "       'nameGiven', 'weight', 'height', 'bats', 'throws', 'debut', 'finalGame',\n",
    "       'retroID', 'bbrefID', 'Position', 'HoF'])"
   ]
  },
  {
   "cell_type": "code",
   "execution_count": 5,
   "metadata": {},
   "outputs": [],
   "source": [
    "namer={\"USA\": \"United States\",\"Curaçao\" : \"Curacao\", \"D.R.\": \"Dominican Republic\", 'CAN': \"Canada\", \"P.R.\": \"Puerto Rico\", \"V.I.\": \"U.S. Virgin Islands\"}"
   ]
  },
  {
   "cell_type": "code",
   "execution_count": 6,
   "metadata": {},
   "outputs": [],
   "source": [
    "data = data.replace({\"birthCountry\": namer})\n",
    "data = data.replace({\"deathCountry\": namer})"
   ]
  },
  {
   "cell_type": "code",
   "execution_count": 7,
   "metadata": {},
   "outputs": [],
   "source": [
    "flags = flags.rename(index=str, columns={\"country\": \"birthCountry\"})\n",
    "flags['deathCountry'] = flags.birthCountry"
   ]
  },
  {
   "cell_type": "code",
   "execution_count": null,
   "metadata": {},
   "outputs": [],
   "source": []
  },
  {
   "cell_type": "code",
   "execution_count": 8,
   "metadata": {},
   "outputs": [],
   "source": [
    "data2 = data.dropna(subset=['deathCountry', 'deathCity'])\n",
    "data = data.dropna(subset=['birthCity', 'deathCity'])"
   ]
  },
  {
   "cell_type": "code",
   "execution_count": 9,
   "metadata": {},
   "outputs": [],
   "source": [
    "cities = cities.drop(columns=['network', 'represented_country_geoname_id', 'is_anonymous_proxy',\n",
    "       'is_satellite_provider', 'postal_code', 'accuracy_radius'])"
   ]
  },
  {
   "cell_type": "code",
   "execution_count": null,
   "metadata": {},
   "outputs": [],
   "source": []
  },
  {
   "cell_type": "code",
   "execution_count": 10,
   "metadata": {},
   "outputs": [],
   "source": [
    "locations = locations.drop(columns=['locale_code', 'continent_name', 'subdivision_1_iso_code',\n",
    "       'subdivision_1_name', 'subdivision_2_iso_code', 'subdivision_2_name',\n",
    "       'time_zone', 'is_in_european_union', 'metro_code'])"
   ]
  },
  {
   "cell_type": "code",
   "execution_count": null,
   "metadata": {},
   "outputs": [],
   "source": []
  },
  {
   "cell_type": "code",
   "execution_count": 11,
   "metadata": {},
   "outputs": [],
   "source": [
    "locator = locations.merge(cities, on = \"geoname_id\", how = \"left\")"
   ]
  },
  {
   "cell_type": "code",
   "execution_count": 12,
   "metadata": {},
   "outputs": [],
   "source": [
    "locator = locator.drop_duplicates(subset=['geoname_id'], keep='first')"
   ]
  },
  {
   "cell_type": "code",
   "execution_count": null,
   "metadata": {},
   "outputs": [],
   "source": []
  },
  {
   "cell_type": "code",
   "execution_count": 13,
   "metadata": {},
   "outputs": [],
   "source": [
    "data['Birthplace'] = data['birthCountry'] + \" \" + data['birthCity']\n",
    "data2['Deathplace'] = data2['deathCountry'] + \" \" + data2['deathCity']"
   ]
  },
  {
   "cell_type": "code",
   "execution_count": 14,
   "metadata": {},
   "outputs": [],
   "source": [
    "locator['Birthplace'] = locator['country_name'] + \" \" + locator['city_name']\n",
    "locator['Deathplace'] = locator['country_name'] + \" \" + locator['city_name']"
   ]
  },
  {
   "cell_type": "code",
   "execution_count": null,
   "metadata": {},
   "outputs": [],
   "source": []
  },
  {
   "cell_type": "code",
   "execution_count": 15,
   "metadata": {},
   "outputs": [],
   "source": [
    "final2 = data.merge(cities2, on='Birthplace', how='left')\n",
    "final22 = data2.merge(cities2, on='Deathplace', how='left')"
   ]
  },
  {
   "cell_type": "code",
   "execution_count": 49,
   "metadata": {},
   "outputs": [],
   "source": []
  },
  {
   "cell_type": "code",
   "execution_count": 19,
   "metadata": {},
   "outputs": [],
   "source": [
    "final = data.merge(locator, on='Birthplace', how='left')"
   ]
  },
  {
   "cell_type": "code",
   "execution_count": null,
   "metadata": {},
   "outputs": [],
   "source": []
  },
  {
   "cell_type": "code",
   "execution_count": 24,
   "metadata": {},
   "outputs": [],
   "source": [
    "final20 = data.merge(locator, on='Birthplace', how='left')"
   ]
  },
  {
   "cell_type": "code",
   "execution_count": null,
   "metadata": {},
   "outputs": [],
   "source": []
  },
  {
   "cell_type": "code",
   "execution_count": 27,
   "metadata": {},
   "outputs": [],
   "source": [
    "final3 = pd.merge(final,final2[['playerID','lat', 'lng']],on='playerID', how='left')\n",
    "final23 = pd.merge(final20,final22[['playerID','lat', 'lng']],on='playerID', how='left')"
   ]
  },
  {
   "cell_type": "code",
   "execution_count": 28,
   "metadata": {},
   "outputs": [],
   "source": [
    "final3.latitude.fillna(final3.lat, inplace=True)\n",
    "final3.longitude.fillna(final3.lng, inplace=True)\n",
    "final23.latitude.fillna(final23.lat, inplace=True)\n",
    "final23.longitude.fillna(final23.lng, inplace=True)"
   ]
  },
  {
   "cell_type": "code",
   "execution_count": null,
   "metadata": {},
   "outputs": [],
   "source": []
  },
  {
   "cell_type": "code",
   "execution_count": 30,
   "metadata": {},
   "outputs": [],
   "source": [
    "final3= final3.drop_duplicates(subset=['playerID'], keep='first')\n",
    "final23= final23.drop_duplicates(subset=['playerID'], keep='first')"
   ]
  },
  {
   "cell_type": "code",
   "execution_count": null,
   "metadata": {},
   "outputs": [],
   "source": []
  },
  {
   "cell_type": "code",
   "execution_count": 45,
   "metadata": {},
   "outputs": [],
   "source": [
    "final4 = pd.merge(final3,flags[['birthCountry','flags']],on='birthCountry', how='left')\n",
    "final24 = pd.merge(final23,flags[['deathCountry','flags']],on='deathCountry', how='left')"
   ]
  },
  {
   "cell_type": "code",
   "execution_count": null,
   "metadata": {},
   "outputs": [],
   "source": []
  },
  {
   "cell_type": "code",
   "execution_count": null,
   "metadata": {},
   "outputs": [],
   "source": [
    "# Czech Republic, Hong Kong, Denmark, Switzerland, Audtria, China, Belize, Indonesia, Finland, Slovakia, American Samoa, POrtugal, Honduras, Latvia"
   ]
  },
  {
   "cell_type": "code",
   "execution_count": 46,
   "metadata": {},
   "outputs": [],
   "source": [
    "final4= final4.drop_duplicates(subset=['playerID'], keep='first')\n",
    "final24= final24.drop_duplicates(subset=['playerID'], keep='first')"
   ]
  },
  {
   "cell_type": "code",
   "execution_count": null,
   "metadata": {},
   "outputs": [],
   "source": []
  },
  {
   "cell_type": "code",
   "execution_count": 47,
   "metadata": {},
   "outputs": [],
   "source": [
    "final24 = final24.dropna(subset=['latitude'])\n",
    "final4 = final4.dropna(subset=['latitude'])"
   ]
  },
  {
   "cell_type": "code",
   "execution_count": 48,
   "metadata": {},
   "outputs": [],
   "source": [
    "final4 = final4.drop(columns = ['deathYear',\n",
    "       'deathCountry', 'deathCity', 'Birthplace',\n",
    "       'geoname_id', 'continent_code', 'country_iso_code', 'country_name',\n",
    "       'city_name', 'registered_country_geoname_id',\n",
    "       'Deathplace', 'lat', 'lng'])"
   ]
  },
  {
   "cell_type": "code",
   "execution_count": null,
   "metadata": {},
   "outputs": [],
   "source": [
    "final24 = final24.drop(columns = ['birthCountry', 'birthCity',\n",
    "       'Birthplace',\n",
    "       'geoname_id', 'continent_code', 'country_iso_code', 'country_name',\n",
    "       'city_name', 'registered_country_geoname_id',\n",
    "       'Deathplace', 'lat', 'lng'])"
   ]
  },
  {
   "cell_type": "code",
   "execution_count": 36,
   "metadata": {},
   "outputs": [],
   "source": [
    "final4.to_csv(\"final.csv\")\n",
    "final24.to_csv(\"final2.csv\")"
   ]
  }
 ],
 "metadata": {
  "kernelspec": {
   "display_name": "Python 3",
   "language": "python",
   "name": "python3"
  },
  "language_info": {
   "codemirror_mode": {
    "name": "ipython",
    "version": 3
   },
   "file_extension": ".py",
   "mimetype": "text/x-python",
   "name": "python",
   "nbconvert_exporter": "python",
   "pygments_lexer": "ipython3",
   "version": "3.7.1"
  }
 },
 "nbformat": 4,
 "nbformat_minor": 2
}
