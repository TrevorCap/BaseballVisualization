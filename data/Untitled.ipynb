{
 "cells": [
  {
   "cell_type": "code",
   "execution_count": 2,
   "metadata": {},
   "outputs": [],
   "source": [
    "import pandas as pd"
   ]
  },
  {
   "cell_type": "code",
   "execution_count": 6,
   "metadata": {},
   "outputs": [
    {
     "data": {
      "text/plain": [
       "array(['United States', 'Canada', 'Puerto Rico', 'Venezuela', 'Germany',\n",
       "       'Mexico', 'Norway', 'Ireland', 'Italy', 'Bahamas',\n",
       "       'United Kingdom', 'South Korea', 'Australia', 'Netherlands',\n",
       "       'Aruba', 'Sweden', 'Japan', 'Afghanistan', 'U.S. Virgin Islands',\n",
       "       'Greece', 'Taiwan', 'Philippines', 'Jamaica', 'Colombia', 'Brazil',\n",
       "       'Nicaragua', 'Guam', 'France', 'Singapore', 'Belgium', 'Spain',\n",
       "       'Poland', 'Saudi Arabia'], dtype=object)"
      ]
     },
     "execution_count": 6,
     "metadata": {},
     "output_type": "execute_result"
    }
   ],
   "source": [
    "appear = pd.read_csv(\"final.csv\")\n",
    "appear['birthCountry'].unique()"
   ]
  },
  {
   "cell_type": "code",
   "execution_count": null,
   "metadata": {},
   "outputs": [],
   "source": []
  },
  {
   "cell_type": "code",
   "execution_count": null,
   "metadata": {},
   "outputs": [],
   "source": []
  }
 ],
 "metadata": {
  "kernelspec": {
   "display_name": "Python 3",
   "language": "python",
   "name": "python3"
  },
  "language_info": {
   "codemirror_mode": {
    "name": "ipython",
    "version": 3
   },
   "file_extension": ".py",
   "mimetype": "text/x-python",
   "name": "python",
   "nbconvert_exporter": "python",
   "pygments_lexer": "ipython3",
   "version": "3.7.1"
  }
 },
 "nbformat": 4,
 "nbformat_minor": 2
}
