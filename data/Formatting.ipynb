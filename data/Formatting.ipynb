{
 "cells": [
  {
   "cell_type": "code",
   "execution_count": 3,
   "metadata": {},
   "outputs": [],
   "source": [
    "import pandas as pd"
   ]
  },
  {
   "cell_type": "code",
   "execution_count": 4,
   "metadata": {},
   "outputs": [],
   "source": [
    "appear = pd.read_csv(\"Appearances.csv\")\n",
    "hof = pd.read_csv(\"HallOfFame.csv\")\n",
    "people = pd.read_csv(\"People.csv\")"
   ]
  },
  {
   "cell_type": "code",
   "execution_count": 5,
   "metadata": {},
   "outputs": [],
   "source": [
    "hof = hof.drop(columns=['yearID', 'votedBy', 'ballots', 'needed', 'votes', 'category', 'needed_note'])"
   ]
  },
  {
   "cell_type": "code",
   "execution_count": 6,
   "metadata": {},
   "outputs": [],
   "source": [
    "hof = hof.drop_duplicates(subset='playerID')\n",
    "hof = hof.sort_values('playerID', ascending=False)"
   ]
  },
  {
   "cell_type": "code",
   "execution_count": 7,
   "metadata": {},
   "outputs": [],
   "source": [
    "hof = hof.set_index('playerID')"
   ]
  },
  {
   "cell_type": "code",
   "execution_count": 8,
   "metadata": {},
   "outputs": [],
   "source": [
    "appear = appear.groupby([\"playerID\"]).sum()"
   ]
  },
  {
   "cell_type": "code",
   "execution_count": 9,
   "metadata": {},
   "outputs": [],
   "source": [
    "appear = appear.drop(columns=['yearID', 'G_all', 'GS', 'G_batting', 'G_defense', 'G_ph', 'G_pr', 'G_of'])\n",
    "appear = appear.rename(index=str, columns={'G_p': 'P','G_c': 'C', 'G_1b': '1B', 'G_2b': '2B', 'G_3b': '3B', 'G_ss': 'SS', 'G_lf': 'LF', 'G_cf': 'LF', 'G_rf': 'RF', 'G_dh': 'DH'})"
   ]
  },
  {
   "cell_type": "code",
   "execution_count": 10,
   "metadata": {},
   "outputs": [],
   "source": [
    "appear['Position'] = appear.idxmax(axis=1)"
   ]
  },
  {
   "cell_type": "code",
   "execution_count": 11,
   "metadata": {},
   "outputs": [],
   "source": [
    "appear = appear.drop(columns=['P', 'C', '1B', '2B', '3B', 'SS', 'LF', 'LF', 'RF', 'DH'])"
   ]
  },
  {
   "cell_type": "code",
   "execution_count": 12,
   "metadata": {},
   "outputs": [],
   "source": [
    "people = people.set_index('playerID')"
   ]
  },
  {
   "cell_type": "code",
   "execution_count": 13,
   "metadata": {},
   "outputs": [],
   "source": [
    "full = people.join(appear)"
   ]
  },
  {
   "cell_type": "code",
   "execution_count": 14,
   "metadata": {},
   "outputs": [],
   "source": [
    "full = full.join(hof)"
   ]
  },
  {
   "cell_type": "code",
   "execution_count": 15,
   "metadata": {},
   "outputs": [],
   "source": [
    "full['inducted'] = full['inducted'].fillna(value='N')"
   ]
  },
  {
   "cell_type": "code",
   "execution_count": 18,
   "metadata": {},
   "outputs": [
    {
     "data": {
      "text/html": [
       "<div>\n",
       "<style scoped>\n",
       "    .dataframe tbody tr th:only-of-type {\n",
       "        vertical-align: middle;\n",
       "    }\n",
       "\n",
       "    .dataframe tbody tr th {\n",
       "        vertical-align: top;\n",
       "    }\n",
       "\n",
       "    .dataframe thead th {\n",
       "        text-align: right;\n",
       "    }\n",
       "</style>\n",
       "<table border=\"1\" class=\"dataframe\">\n",
       "  <thead>\n",
       "    <tr style=\"text-align: right;\">\n",
       "      <th></th>\n",
       "      <th>birthYear</th>\n",
       "      <th>birthMonth</th>\n",
       "      <th>birthDay</th>\n",
       "      <th>birthCountry</th>\n",
       "      <th>birthState</th>\n",
       "      <th>birthCity</th>\n",
       "      <th>deathYear</th>\n",
       "      <th>deathMonth</th>\n",
       "      <th>deathDay</th>\n",
       "      <th>deathCountry</th>\n",
       "      <th>...</th>\n",
       "      <th>weight</th>\n",
       "      <th>height</th>\n",
       "      <th>bats</th>\n",
       "      <th>throws</th>\n",
       "      <th>debut</th>\n",
       "      <th>finalGame</th>\n",
       "      <th>retroID</th>\n",
       "      <th>bbrefID</th>\n",
       "      <th>Position</th>\n",
       "      <th>HoF</th>\n",
       "    </tr>\n",
       "    <tr>\n",
       "      <th>playerID</th>\n",
       "      <th></th>\n",
       "      <th></th>\n",
       "      <th></th>\n",
       "      <th></th>\n",
       "      <th></th>\n",
       "      <th></th>\n",
       "      <th></th>\n",
       "      <th></th>\n",
       "      <th></th>\n",
       "      <th></th>\n",
       "      <th></th>\n",
       "      <th></th>\n",
       "      <th></th>\n",
       "      <th></th>\n",
       "      <th></th>\n",
       "      <th></th>\n",
       "      <th></th>\n",
       "      <th></th>\n",
       "      <th></th>\n",
       "      <th></th>\n",
       "      <th></th>\n",
       "    </tr>\n",
       "  </thead>\n",
       "  <tbody>\n",
       "    <tr>\n",
       "      <th>aardsda01</th>\n",
       "      <td>1981.0</td>\n",
       "      <td>12.0</td>\n",
       "      <td>27.0</td>\n",
       "      <td>USA</td>\n",
       "      <td>CO</td>\n",
       "      <td>Denver</td>\n",
       "      <td>NaN</td>\n",
       "      <td>NaN</td>\n",
       "      <td>NaN</td>\n",
       "      <td>NaN</td>\n",
       "      <td>...</td>\n",
       "      <td>215.0</td>\n",
       "      <td>75.0</td>\n",
       "      <td>R</td>\n",
       "      <td>R</td>\n",
       "      <td>2004-04-06</td>\n",
       "      <td>2015-08-23</td>\n",
       "      <td>aardd001</td>\n",
       "      <td>aardsda01</td>\n",
       "      <td>P</td>\n",
       "      <td>N</td>\n",
       "    </tr>\n",
       "    <tr>\n",
       "      <th>aaronha01</th>\n",
       "      <td>1934.0</td>\n",
       "      <td>2.0</td>\n",
       "      <td>5.0</td>\n",
       "      <td>USA</td>\n",
       "      <td>AL</td>\n",
       "      <td>Mobile</td>\n",
       "      <td>NaN</td>\n",
       "      <td>NaN</td>\n",
       "      <td>NaN</td>\n",
       "      <td>NaN</td>\n",
       "      <td>...</td>\n",
       "      <td>180.0</td>\n",
       "      <td>72.0</td>\n",
       "      <td>R</td>\n",
       "      <td>R</td>\n",
       "      <td>1954-04-13</td>\n",
       "      <td>1976-10-03</td>\n",
       "      <td>aaroh101</td>\n",
       "      <td>aaronha01</td>\n",
       "      <td>RF</td>\n",
       "      <td>Y</td>\n",
       "    </tr>\n",
       "    <tr>\n",
       "      <th>aaronto01</th>\n",
       "      <td>1939.0</td>\n",
       "      <td>8.0</td>\n",
       "      <td>5.0</td>\n",
       "      <td>USA</td>\n",
       "      <td>AL</td>\n",
       "      <td>Mobile</td>\n",
       "      <td>1984.0</td>\n",
       "      <td>8.0</td>\n",
       "      <td>16.0</td>\n",
       "      <td>USA</td>\n",
       "      <td>...</td>\n",
       "      <td>190.0</td>\n",
       "      <td>75.0</td>\n",
       "      <td>R</td>\n",
       "      <td>R</td>\n",
       "      <td>1962-04-10</td>\n",
       "      <td>1971-09-26</td>\n",
       "      <td>aarot101</td>\n",
       "      <td>aaronto01</td>\n",
       "      <td>1B</td>\n",
       "      <td>N</td>\n",
       "    </tr>\n",
       "    <tr>\n",
       "      <th>aasedo01</th>\n",
       "      <td>1954.0</td>\n",
       "      <td>9.0</td>\n",
       "      <td>8.0</td>\n",
       "      <td>USA</td>\n",
       "      <td>CA</td>\n",
       "      <td>Orange</td>\n",
       "      <td>NaN</td>\n",
       "      <td>NaN</td>\n",
       "      <td>NaN</td>\n",
       "      <td>NaN</td>\n",
       "      <td>...</td>\n",
       "      <td>190.0</td>\n",
       "      <td>75.0</td>\n",
       "      <td>R</td>\n",
       "      <td>R</td>\n",
       "      <td>1977-07-26</td>\n",
       "      <td>1990-10-03</td>\n",
       "      <td>aased001</td>\n",
       "      <td>aasedo01</td>\n",
       "      <td>P</td>\n",
       "      <td>N</td>\n",
       "    </tr>\n",
       "    <tr>\n",
       "      <th>abadan01</th>\n",
       "      <td>1972.0</td>\n",
       "      <td>8.0</td>\n",
       "      <td>25.0</td>\n",
       "      <td>USA</td>\n",
       "      <td>FL</td>\n",
       "      <td>Palm Beach</td>\n",
       "      <td>NaN</td>\n",
       "      <td>NaN</td>\n",
       "      <td>NaN</td>\n",
       "      <td>NaN</td>\n",
       "      <td>...</td>\n",
       "      <td>184.0</td>\n",
       "      <td>73.0</td>\n",
       "      <td>L</td>\n",
       "      <td>L</td>\n",
       "      <td>2001-09-10</td>\n",
       "      <td>2006-04-13</td>\n",
       "      <td>abada001</td>\n",
       "      <td>abadan01</td>\n",
       "      <td>1B</td>\n",
       "      <td>N</td>\n",
       "    </tr>\n",
       "  </tbody>\n",
       "</table>\n",
       "<p>5 rows × 25 columns</p>\n",
       "</div>"
      ],
      "text/plain": [
       "           birthYear  birthMonth  birthDay birthCountry birthState  \\\n",
       "playerID                                                             \n",
       "aardsda01     1981.0        12.0      27.0          USA         CO   \n",
       "aaronha01     1934.0         2.0       5.0          USA         AL   \n",
       "aaronto01     1939.0         8.0       5.0          USA         AL   \n",
       "aasedo01      1954.0         9.0       8.0          USA         CA   \n",
       "abadan01      1972.0         8.0      25.0          USA         FL   \n",
       "\n",
       "            birthCity  deathYear  deathMonth  deathDay deathCountry ...  \\\n",
       "playerID                                                            ...   \n",
       "aardsda01      Denver        NaN         NaN       NaN          NaN ...   \n",
       "aaronha01      Mobile        NaN         NaN       NaN          NaN ...   \n",
       "aaronto01      Mobile     1984.0         8.0      16.0          USA ...   \n",
       "aasedo01       Orange        NaN         NaN       NaN          NaN ...   \n",
       "abadan01   Palm Beach        NaN         NaN       NaN          NaN ...   \n",
       "\n",
       "          weight height bats throws       debut   finalGame   retroID  \\\n",
       "playerID                                                                \n",
       "aardsda01  215.0   75.0    R      R  2004-04-06  2015-08-23  aardd001   \n",
       "aaronha01  180.0   72.0    R      R  1954-04-13  1976-10-03  aaroh101   \n",
       "aaronto01  190.0   75.0    R      R  1962-04-10  1971-09-26  aarot101   \n",
       "aasedo01   190.0   75.0    R      R  1977-07-26  1990-10-03  aased001   \n",
       "abadan01   184.0   73.0    L      L  2001-09-10  2006-04-13  abada001   \n",
       "\n",
       "             bbrefID Position HoF  \n",
       "playerID                           \n",
       "aardsda01  aardsda01        P   N  \n",
       "aaronha01  aaronha01       RF   Y  \n",
       "aaronto01  aaronto01       1B   N  \n",
       "aasedo01    aasedo01        P   N  \n",
       "abadan01    abadan01       1B   N  \n",
       "\n",
       "[5 rows x 25 columns]"
      ]
     },
     "execution_count": 18,
     "metadata": {},
     "output_type": "execute_result"
    }
   ],
   "source": [
    "full = full.rename(index=str, columns={'inducted': 'HoF'})\n",
    "full.head()"
   ]
  },
  {
   "cell_type": "code",
   "execution_count": 19,
   "metadata": {},
   "outputs": [
    {
     "data": {
      "text/plain": [
       "57"
      ]
     },
     "execution_count": 19,
     "metadata": {},
     "output_type": "execute_result"
    }
   ],
   "source": [
    "len(full['birthCountry'].unique().tolist())"
   ]
  },
  {
   "cell_type": "code",
   "execution_count": 21,
   "metadata": {},
   "outputs": [
    {
     "data": {
      "text/plain": [
       "['USA',\n",
       " 'D.R.',\n",
       " 'Venezuela',\n",
       " 'Cuba',\n",
       " 'Mexico',\n",
       " 'Panama',\n",
       " 'CAN',\n",
       " 'P.R.',\n",
       " 'Russia',\n",
       " 'Curacao',\n",
       " 'Colombia',\n",
       " 'Nicaragua',\n",
       " 'Germany',\n",
       " 'Norway',\n",
       " 'Japan',\n",
       " 'Ireland',\n",
       " 'Italy',\n",
       " 'Bahamas',\n",
       " 'United Kingdom',\n",
       " 'South Korea',\n",
       " 'Australia',\n",
       " 'Czech Republic',\n",
       " 'V.I.',\n",
       " 'Netherlands',\n",
       " 'France',\n",
       " 'Aruba',\n",
       " nan,\n",
       " 'Sweden',\n",
       " 'Hong Kong',\n",
       " 'Afghanistan',\n",
       " 'Spain',\n",
       " 'Greece',\n",
       " 'Taiwan',\n",
       " 'Philippines',\n",
       " 'Jamaica',\n",
       " 'Poland',\n",
       " 'Brazil',\n",
       " 'Viet Nam',\n",
       " 'Guam',\n",
       " 'Denmark',\n",
       " 'Switzerland',\n",
       " 'Austria',\n",
       " 'Singapore',\n",
       " 'China',\n",
       " 'Belgium',\n",
       " 'Belize',\n",
       " 'Indonesia',\n",
       " 'Finland',\n",
       " 'Lithuania',\n",
       " 'South Africa',\n",
       " 'At Sea',\n",
       " 'Slovakia',\n",
       " 'American Samoa',\n",
       " 'Saudi Arabia',\n",
       " 'Portugal',\n",
       " 'Honduras',\n",
       " 'Latvia']"
      ]
     },
     "execution_count": 21,
     "metadata": {},
     "output_type": "execute_result"
    }
   ],
   "source": [
    "full['birthCountry'].unique().tolist()"
   ]
  },
  {
   "cell_type": "code",
   "execution_count": 20,
   "metadata": {},
   "outputs": [
    {
     "data": {
      "text/plain": [
       "26"
      ]
     },
     "execution_count": 20,
     "metadata": {},
     "output_type": "execute_result"
    }
   ],
   "source": [
    "len(full['deathCountry'].unique().tolist())"
   ]
  },
  {
   "cell_type": "code",
   "execution_count": 23,
   "metadata": {},
   "outputs": [
    {
     "data": {
      "text/plain": [
       "[nan,\n",
       " 'USA',\n",
       " 'Cuba',\n",
       " 'Mexico',\n",
       " 'D.R.',\n",
       " 'P.R.',\n",
       " 'Austria',\n",
       " 'Venezuela',\n",
       " 'CAN',\n",
       " 'France',\n",
       " 'Panama',\n",
       " 'Bahamas',\n",
       " 'Taiwan',\n",
       " 'United Kingdom',\n",
       " 'Philippines',\n",
       " 'Netherlands',\n",
       " 'At Sea',\n",
       " 'Japan',\n",
       " 'Australia',\n",
       " 'North Korea',\n",
       " 'V.I.',\n",
       " 'Ireland',\n",
       " 'American Samoa',\n",
       " 'San Marino',\n",
       " 'Costa Rica',\n",
       " 'China']"
      ]
     },
     "execution_count": 23,
     "metadata": {},
     "output_type": "execute_result"
    }
   ],
   "source": [
    "full['deathCountry'].unique().tolist()"
   ]
  },
  {
   "cell_type": "code",
   "execution_count": 16,
   "metadata": {},
   "outputs": [],
   "source": [
    "full.to_csv(\"fulldata.csv\")"
   ]
  },
  {
   "cell_type": "code",
   "execution_count": null,
   "metadata": {},
   "outputs": [],
   "source": []
  }
 ],
 "metadata": {
  "kernelspec": {
   "display_name": "Python 3",
   "language": "python",
   "name": "python3"
  },
  "language_info": {
   "codemirror_mode": {
    "name": "ipython",
    "version": 3
   },
   "file_extension": ".py",
   "mimetype": "text/x-python",
   "name": "python",
   "nbconvert_exporter": "python",
   "pygments_lexer": "ipython3",
   "version": "3.7.1"
  }
 },
 "nbformat": 4,
 "nbformat_minor": 2
}
